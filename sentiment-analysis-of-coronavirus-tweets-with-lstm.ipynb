{
 "cells": [
  {
   "cell_type": "code",
   "execution_count": 1,
   "id": "hawaiian-mobile",
   "metadata": {
    "_cell_guid": "b1076dfc-b9ad-4769-8c92-a6c4dae69d19",
    "_uuid": "8f2839f25d086af736a60e9eeb907d3b93b6e0e5",
    "execution": {
     "iopub.execute_input": "2021-05-21T10:05:08.905603Z",
     "iopub.status.busy": "2021-05-21T10:05:08.904951Z",
     "iopub.status.idle": "2021-05-21T10:05:08.921729Z",
     "shell.execute_reply": "2021-05-21T10:05:08.920921Z",
     "shell.execute_reply.started": "2021-05-21T09:03:30.465702Z"
    },
    "papermill": {
     "duration": 0.048011,
     "end_time": "2021-05-21T10:05:08.921902",
     "exception": false,
     "start_time": "2021-05-21T10:05:08.873891",
     "status": "completed"
    },
    "tags": []
   },
   "outputs": [
    {
     "name": "stdout",
     "output_type": "stream",
     "text": [
      "/kaggle/input/covid-19-nlp-text-classification/Corona_NLP_test.csv\n",
      "/kaggle/input/covid-19-nlp-text-classification/Corona_NLP_train.csv\n"
     ]
    }
   ],
   "source": [
    "# This Python 3 environment comes with many helpful analytics libraries installed\n",
    "# It is defined by the kaggle/python Docker image: https://github.com/kaggle/docker-python\n",
    "# For example, here's several helpful packages to load\n",
    "\n",
    "import numpy as np # linear algebra\n",
    "import pandas as pd # data processing, CSV file I/O (e.g. pd.read_csv)\n",
    "\n",
    "# Input data files are available in the read-only \"../input/\" directory\n",
    "# For example, running this (by clicking run or pressing Shift+Enter) will list all files under the input directory\n",
    "\n",
    "import os\n",
    "for dirname, _, filenames in os.walk('/kaggle/input'):\n",
    "    for filename in filenames:\n",
    "        print(os.path.join(dirname, filename))\n",
    "\n",
    "# You can write up to 20GB to the current directory (/kaggle/working/) that gets preserved as output when you create a version using \"Save & Run All\" \n",
    "# You can also write temporary files to /kaggle/temp/, but they won't be saved outside of the current session"
   ]
  },
  {
   "cell_type": "markdown",
   "id": "relevant-walker",
   "metadata": {
    "papermill": {
     "duration": 0.023748,
     "end_time": "2021-05-21T10:05:08.971500",
     "exception": false,
     "start_time": "2021-05-21T10:05:08.947752",
     "status": "completed"
    },
    "tags": []
   },
   "source": [
    "# Sentiment analysis of Coronavirus tweets with LSTM"
   ]
  },
  {
   "cell_type": "code",
   "execution_count": 2,
   "id": "rocky-tiger",
   "metadata": {
    "execution": {
     "iopub.execute_input": "2021-05-21T10:05:09.027954Z",
     "iopub.status.busy": "2021-05-21T10:05:09.027208Z",
     "iopub.status.idle": "2021-05-21T10:05:17.016039Z",
     "shell.execute_reply": "2021-05-21T10:05:17.016555Z",
     "shell.execute_reply.started": "2021-05-21T09:02:41.204632Z"
    },
    "papermill": {
     "duration": 8.021146,
     "end_time": "2021-05-21T10:05:17.016756",
     "exception": false,
     "start_time": "2021-05-21T10:05:08.995610",
     "status": "completed"
    },
    "tags": []
   },
   "outputs": [],
   "source": [
    "import numpy as np # linear algebra\n",
    "import pandas as pd # data processing, CSV file I/O (e.g. pd.read_csv)\n",
    "\n",
    "# Tensorflow imports\n",
    "\n",
    "# for building model\n",
    "import tensorflow as tf\n",
    "from tensorflow import keras\n",
    "from tensorflow.keras import layers, models\n",
    "from tensorflow.keras.models import Sequential\n",
    "from tensorflow.keras.layers import Embedding, LSTM, Flatten, GlobalMaxPooling1D, Dense, Dropout\n",
    "\n",
    "# for Padding\n",
    "from tensorflow.keras import preprocessing\n",
    "from tensorflow.keras.preprocessing.sequence import pad_sequences\n",
    "\n",
    "# for Tokenization \n",
    "from tensorflow.keras.preprocessing.text import Tokenizer\n",
    "\n",
    "# NLTK imports\n",
    "import nltk\n",
    "from nltk.stem import WordNetLemmatizer\n",
    "from nltk.corpus import wordnet\n",
    "from nltk.corpus import stopwords\n",
    "from nltk.tokenize import word_tokenize\n",
    "\n",
    "# For visualization\n",
    "import matplotlib.pyplot as plt\n",
    "import seaborn as sns\n",
    "\n",
    "# For regular expressions\n",
    "import re\n",
    "\n",
    "# For data preprocessing\n",
    "from string import punctuation, digits\n"
   ]
  },
  {
   "cell_type": "code",
   "execution_count": 3,
   "id": "progressive-grass",
   "metadata": {
    "execution": {
     "iopub.execute_input": "2021-05-21T10:05:17.070782Z",
     "iopub.status.busy": "2021-05-21T10:05:17.069748Z",
     "iopub.status.idle": "2021-05-21T10:05:17.511005Z",
     "shell.execute_reply": "2021-05-21T10:05:17.511500Z",
     "shell.execute_reply.started": "2021-05-21T09:06:12.918502Z"
    },
    "papermill": {
     "duration": 0.46918,
     "end_time": "2021-05-21T10:05:17.511684",
     "exception": false,
     "start_time": "2021-05-21T10:05:17.042504",
     "status": "completed"
    },
    "tags": []
   },
   "outputs": [
    {
     "name": "stdout",
     "output_type": "stream",
     "text": [
      "train dataset shape >> (41157, 6)\n",
      "test dataset shape >> (3798, 6)\n"
     ]
    }
   ],
   "source": [
    "# Use 'Latin 1' encoding to recognize latin characters\n",
    "# importing dataset\n",
    "\n",
    "train_df = pd.read_csv(\"/kaggle/input/covid-19-nlp-text-classification/Corona_NLP_train.csv\", encoding=\"Latin-1\")\n",
    "test_df = pd.read_csv(\"/kaggle/input/covid-19-nlp-text-classification/Corona_NLP_test.csv\", encoding=\"Latin-1\")\n",
    "\n",
    "print(f\"train dataset shape >> {train_df.shape}\")\n",
    "print(f\"test dataset shape >> {test_df.shape}\")\n"
   ]
  },
  {
   "cell_type": "code",
   "execution_count": 4,
   "id": "thousand-launch",
   "metadata": {
    "execution": {
     "iopub.execute_input": "2021-05-21T10:05:17.564399Z",
     "iopub.status.busy": "2021-05-21T10:05:17.563377Z",
     "iopub.status.idle": "2021-05-21T10:05:17.623004Z",
     "shell.execute_reply": "2021-05-21T10:05:17.623535Z",
     "shell.execute_reply.started": "2021-05-21T09:06:36.142026Z"
    },
    "papermill": {
     "duration": 0.087665,
     "end_time": "2021-05-21T10:05:17.623732",
     "exception": false,
     "start_time": "2021-05-21T10:05:17.536067",
     "status": "completed"
    },
    "tags": []
   },
   "outputs": [],
   "source": [
    "# Creat new dataset (which will consist from 2 columns: label, data)\n",
    "\n",
    "def data_label_split(dataset):\n",
    "    data = dataset['OriginalTweet']\n",
    "    label = dataset['Sentiment']\n",
    "    return data,label\n",
    "\n",
    "train_data,train_label = data_label_split(train_df)\n",
    "test_data,test_label = data_label_split(test_df)\n",
    "\n",
    "train = pd.DataFrame({\n",
    "    'label':train_label,\n",
    "    'data':train_data\n",
    "})\n",
    "\n",
    "test = pd.DataFrame({\n",
    "    'label':test_label,\n",
    "    'data':test_data\n",
    "})\n",
    "\n",
    "# Define function which will make new labels\n",
    "\n",
    "def reassign_label(x):\n",
    "    if x == \"Extremely Positive\" or x == \"Positive\":\n",
    "        return 1\n",
    "    elif x ==\"Extremely Negative\" or x ==\"Negative\":\n",
    "        return -1\n",
    "    elif x ==\"Neutral\":\n",
    "        return 0\n",
    "\n",
    "train.label = train.label.apply(lambda x:reassign_label(x))\n",
    "test.label = test.label.apply(lambda x:reassign_label(x))\n"
   ]
  },
  {
   "cell_type": "markdown",
   "id": "alive-charlotte",
   "metadata": {
    "papermill": {
     "duration": 0.024606,
     "end_time": "2021-05-21T10:05:17.672775",
     "exception": false,
     "start_time": "2021-05-21T10:05:17.648169",
     "status": "completed"
    },
    "tags": []
   },
   "source": [
    "# 2 Data preprocessing"
   ]
  },
  {
   "cell_type": "code",
   "execution_count": 5,
   "id": "explicit-desperate",
   "metadata": {
    "execution": {
     "iopub.execute_input": "2021-05-21T10:05:17.726656Z",
     "iopub.status.busy": "2021-05-21T10:05:17.725832Z",
     "iopub.status.idle": "2021-05-21T10:05:17.735361Z",
     "shell.execute_reply": "2021-05-21T10:05:17.735856Z",
     "shell.execute_reply.started": "2021-05-21T09:07:08.205318Z"
    },
    "papermill": {
     "duration": 0.038102,
     "end_time": "2021-05-21T10:05:17.736040",
     "exception": false,
     "start_time": "2021-05-21T10:05:17.697938",
     "status": "completed"
    },
    "tags": []
   },
   "outputs": [],
   "source": [
    "def remove_punctuation(s):\n",
    "    list_punctuation = list(punctuation)\n",
    "    for i in list_punctuation:\n",
    "        s = s.replace(i,'')\n",
    "    return s.lower()\n",
    "\n",
    "def clean_sentence(sentence):\n",
    "    sentence = sentence.lower()\n",
    "    sentence = re.sub(r'(\\W)\\1{2,}', r'\\1', sentence) \n",
    "    sentence = re.sub(r'(\\w)\\1{2,}', r'\\1\\1', sentence)\n",
    "    sentence = re.sub(r'(?P<url>https?://[^\\s]+)', '', sentence) # remove URL adresses\n",
    "    sentence = re.sub(r\"\\@(\\w+)\", '', sentence) # remove usernames\n",
    "    sentence = re.sub(r\"\\#(\\w+)\", '', sentence) # remove hashtags\n",
    "    sentence = re.sub(r\"\\$(\\w+)\", '', sentence) # remove cashtags\n",
    "    sentence = sentence.replace(\"-\",' ')\n",
    "    tokens = sentence.split()\n",
    "    tokens = [remove_punctuation(w) for w in tokens] # remove punctuations\n",
    "    stop_words = set(stopwords.words('english')) # remove stopwords\n",
    "    tokens = [w for w in tokens if not w in stop_words]\n",
    "    remove_digits = str.maketrans('', '', digits)\n",
    "    tokens = [w.translate(remove_digits) for w in tokens]\n",
    "    tokens = [w.strip() for w in tokens]\n",
    "    tokens = [w for w in tokens if w!=\"\"]\n",
    "    tokens = ' '.join(tokens)\n",
    "    return tokens"
   ]
  },
  {
   "cell_type": "code",
   "execution_count": 6,
   "id": "ceramic-columbus",
   "metadata": {
    "execution": {
     "iopub.execute_input": "2021-05-21T10:05:17.789652Z",
     "iopub.status.busy": "2021-05-21T10:05:17.788937Z",
     "iopub.status.idle": "2021-05-21T10:05:35.533723Z",
     "shell.execute_reply": "2021-05-21T10:05:35.534227Z",
     "shell.execute_reply.started": "2021-05-21T09:07:19.479042Z"
    },
    "papermill": {
     "duration": 17.773447,
     "end_time": "2021-05-21T10:05:35.534445",
     "exception": false,
     "start_time": "2021-05-21T10:05:17.760998",
     "status": "completed"
    },
    "tags": []
   },
   "outputs": [],
   "source": [
    "# Clean sentences in train and test data\n",
    "train.data = train.data.apply(lambda sentence:clean_sentence(sentence))\n",
    "test.data = test.data.apply(lambda sentence:clean_sentence(sentence))"
   ]
  },
  {
   "cell_type": "code",
   "execution_count": 7,
   "id": "binding-palestinian",
   "metadata": {
    "execution": {
     "iopub.execute_input": "2021-05-21T10:05:35.587043Z",
     "iopub.status.busy": "2021-05-21T10:05:35.586407Z",
     "iopub.status.idle": "2021-05-21T10:05:35.619818Z",
     "shell.execute_reply": "2021-05-21T10:05:35.620369Z",
     "shell.execute_reply.started": "2021-05-21T09:07:35.221216Z"
    },
    "papermill": {
     "duration": 0.060962,
     "end_time": "2021-05-21T10:05:35.620568",
     "exception": false,
     "start_time": "2021-05-21T10:05:35.559606",
     "status": "completed"
    },
    "tags": []
   },
   "outputs": [],
   "source": [
    "# Remove letter ' â ' in words\n",
    "def rem_latin_a(sentences):\n",
    "    sentences = sentences.replace(\"â\", \"\")\n",
    "    return sentences\n",
    "\n",
    "train.data = train.data.apply(lambda sentences:rem_latin_a(sentences))\n",
    "test.data = test.data.apply(lambda sentences:rem_latin_a(sentences))"
   ]
  },
  {
   "cell_type": "code",
   "execution_count": 8,
   "id": "spectacular-corruption",
   "metadata": {
    "execution": {
     "iopub.execute_input": "2021-05-21T10:05:35.672596Z",
     "iopub.status.busy": "2021-05-21T10:05:35.671846Z",
     "iopub.status.idle": "2021-05-21T10:05:35.683039Z",
     "shell.execute_reply": "2021-05-21T10:05:35.682358Z",
     "shell.execute_reply.started": "2021-05-21T09:07:45.567278Z"
    },
    "papermill": {
     "duration": 0.038335,
     "end_time": "2021-05-21T10:05:35.683183",
     "exception": false,
     "start_time": "2021-05-21T10:05:35.644848",
     "status": "completed"
    },
    "tags": []
   },
   "outputs": [],
   "source": [
    "# Replace all empty lines in the 'data' column with np.nan objects \n",
    "train['data'].replace('', np.nan, inplace=True)\n",
    "test['data'].replace('', np.nan, inplace=True)"
   ]
  },
  {
   "cell_type": "code",
   "execution_count": 9,
   "id": "exempt-incentive",
   "metadata": {
    "execution": {
     "iopub.execute_input": "2021-05-21T10:05:35.747927Z",
     "iopub.status.busy": "2021-05-21T10:05:35.747214Z",
     "iopub.status.idle": "2021-05-21T10:05:35.776740Z",
     "shell.execute_reply": "2021-05-21T10:05:35.776031Z",
     "shell.execute_reply.started": "2021-05-21T09:07:59.076362Z"
    },
    "papermill": {
     "duration": 0.069219,
     "end_time": "2021-05-21T10:05:35.776891",
     "exception": false,
     "start_time": "2021-05-21T10:05:35.707672",
     "status": "completed"
    },
    "tags": []
   },
   "outputs": [],
   "source": [
    "# Discard null values\n",
    "\n",
    "# Originally there were 41157 rows, now it has become 41106. The training dataset was reduced by 51 lines.\n",
    "train.dropna(subset=['data'], inplace=True)\n",
    "\n",
    "# Originally there were 3798 lines, now it has become 3795. The test dataset was reduced by 3 lines.\n",
    "test.dropna(subset=['data'], inplace=True)"
   ]
  },
  {
   "cell_type": "code",
   "execution_count": 10,
   "id": "negative-transcript",
   "metadata": {
    "execution": {
     "iopub.execute_input": "2021-05-21T10:05:35.832501Z",
     "iopub.status.busy": "2021-05-21T10:05:35.831735Z",
     "iopub.status.idle": "2021-05-21T10:05:35.834879Z",
     "shell.execute_reply": "2021-05-21T10:05:35.834212Z",
     "shell.execute_reply.started": "2021-05-21T09:08:10.886288Z"
    },
    "papermill": {
     "duration": 0.03361,
     "end_time": "2021-05-21T10:05:35.835024",
     "exception": false,
     "start_time": "2021-05-21T10:05:35.801414",
     "status": "completed"
    },
    "tags": []
   },
   "outputs": [],
   "source": [
    "# Splitting data to train and test\n",
    "\n",
    "# Train data\n",
    "train_data = train.data\n",
    "train_label = train.label\n",
    "\n",
    "# Test data\n",
    "test_data = test.data\n",
    "test_label = test.label"
   ]
  },
  {
   "cell_type": "markdown",
   "id": "juvenile-shock",
   "metadata": {
    "papermill": {
     "duration": 0.024708,
     "end_time": "2021-05-21T10:05:35.884238",
     "exception": false,
     "start_time": "2021-05-21T10:05:35.859530",
     "status": "completed"
    },
    "tags": []
   },
   "source": [
    "# 2.1 Label preparation"
   ]
  },
  {
   "cell_type": "code",
   "execution_count": 11,
   "id": "soviet-export",
   "metadata": {
    "execution": {
     "iopub.execute_input": "2021-05-21T10:05:35.940221Z",
     "iopub.status.busy": "2021-05-21T10:05:35.939463Z",
     "iopub.status.idle": "2021-05-21T10:05:36.189683Z",
     "shell.execute_reply": "2021-05-21T10:05:36.188928Z",
     "shell.execute_reply.started": "2021-05-21T09:08:33.850563Z"
    },
    "papermill": {
     "duration": 0.281178,
     "end_time": "2021-05-21T10:05:36.189840",
     "exception": false,
     "start_time": "2021-05-21T10:05:35.908662",
     "status": "completed"
    },
    "tags": []
   },
   "outputs": [
    {
     "data": {
      "image/png": "[encoded data removed]",
      "text/plain": [
       "<Figure size 432x288 with 1 Axes>"
      ]
     },
     "metadata": {
      "needs_background": "light"
     },
     "output_type": "display_data"
    }
   ],
   "source": [
    "# Plot a graph of the number of elements in each class in the train data\n",
    "\n",
    "sns.countplot(x=train_label)\n",
    "plt.title('The number of elements in each class in the train data', fontdict={'fontname': 'Comic Sans MS', 'fontsize': 15})\n",
    "plt.tight_layout()\n",
    "plt.show()\n"
   ]
  },
  {
   "cell_type": "code",
   "execution_count": 12,
   "id": "stuffed-criticism",
   "metadata": {
    "execution": {
     "iopub.execute_input": "2021-05-21T10:05:36.249787Z",
     "iopub.status.busy": "2021-05-21T10:05:36.248930Z",
     "iopub.status.idle": "2021-05-21T10:05:36.455905Z",
     "shell.execute_reply": "2021-05-21T10:05:36.455353Z",
     "shell.execute_reply.started": "2021-05-21T09:08:54.908026Z"
    },
    "papermill": {
     "duration": 0.240258,
     "end_time": "2021-05-21T10:05:36.456060",
     "exception": false,
     "start_time": "2021-05-21T10:05:36.215802",
     "status": "completed"
    },
    "tags": []
   },
   "outputs": [
    {
     "data": {
      "image/png": "[encoded data removed]",
      "text/plain": [
       "<Figure size 432x288 with 1 Axes>"
      ]
     },
     "metadata": {
      "needs_background": "light"
     },
     "output_type": "display_data"
    }
   ],
   "source": [
    "# Plot a graph of the number of elements in each class in the test data\n",
    "\n",
    "sns.countplot(x=test_label)\n",
    "plt.title('The number of elements in each class in the test data', fontdict={'fontname': 'Comic Sans MS', 'fontsize': 15})\n",
    "plt.tight_layout()\n",
    "plt.show()"
   ]
  },
  {
   "cell_type": "code",
   "execution_count": 13,
   "id": "massive-demographic",
   "metadata": {
    "execution": {
     "iopub.execute_input": "2021-05-21T10:05:36.515076Z",
     "iopub.status.busy": "2021-05-21T10:05:36.514322Z",
     "iopub.status.idle": "2021-05-21T10:05:36.520621Z",
     "shell.execute_reply": "2021-05-21T10:05:36.521140Z",
     "shell.execute_reply.started": "2021-05-21T09:09:09.718197Z"
    },
    "papermill": {
     "duration": 0.038766,
     "end_time": "2021-05-21T10:05:36.521362",
     "exception": false,
     "start_time": "2021-05-21T10:05:36.482596",
     "status": "completed"
    },
    "tags": []
   },
   "outputs": [],
   "source": [
    "# Convert categorical variable (in our case: -1, 0, 1) into dummy/indicator variables. Such as -1 to 1 0 0 \n",
    "train_label = pd.get_dummies(train_label)\n",
    "test_label = pd.get_dummies(test_label)"
   ]
  },
  {
   "cell_type": "code",
   "execution_count": 14,
   "id": "scenic-oracle",
   "metadata": {
    "execution": {
     "iopub.execute_input": "2021-05-21T10:05:36.577282Z",
     "iopub.status.busy": "2021-05-21T10:05:36.576580Z",
     "iopub.status.idle": "2021-05-21T10:05:36.593918Z",
     "shell.execute_reply": "2021-05-21T10:05:36.594456Z",
     "shell.execute_reply.started": "2021-05-21T09:48:59.253801Z"
    },
    "papermill": {
     "duration": 0.047062,
     "end_time": "2021-05-21T10:05:36.594655",
     "exception": false,
     "start_time": "2021-05-21T10:05:36.547593",
     "status": "completed"
    },
    "tags": []
   },
   "outputs": [
    {
     "data": {
      "text/html": [
       "<div>\n",
       "<style scoped>\n",
       "    .dataframe tbody tr th:only-of-type {\n",
       "        vertical-align: middle;\n",
       "    }\n",
       "\n",
       "    .dataframe tbody tr th {\n",
       "        vertical-align: top;\n",
       "    }\n",
       "\n",
       "    .dataframe thead th {\n",
       "        text-align: right;\n",
       "    }\n",
       "</style>\n",
       "<table border=\"1\" class=\"dataframe\">\n",
       "  <thead>\n",
       "    <tr style=\"text-align: right;\">\n",
       "      <th></th>\n",
       "      <th>-1</th>\n",
       "      <th>0</th>\n",
       "      <th>1</th>\n",
       "    </tr>\n",
       "  </thead>\n",
       "  <tbody>\n",
       "    <tr>\n",
       "      <th>1</th>\n",
       "      <td>0</td>\n",
       "      <td>0</td>\n",
       "      <td>1</td>\n",
       "    </tr>\n",
       "    <tr>\n",
       "      <th>2</th>\n",
       "      <td>0</td>\n",
       "      <td>0</td>\n",
       "      <td>1</td>\n",
       "    </tr>\n",
       "    <tr>\n",
       "      <th>3</th>\n",
       "      <td>0</td>\n",
       "      <td>0</td>\n",
       "      <td>1</td>\n",
       "    </tr>\n",
       "    <tr>\n",
       "      <th>4</th>\n",
       "      <td>1</td>\n",
       "      <td>0</td>\n",
       "      <td>0</td>\n",
       "    </tr>\n",
       "    <tr>\n",
       "      <th>5</th>\n",
       "      <td>0</td>\n",
       "      <td>0</td>\n",
       "      <td>1</td>\n",
       "    </tr>\n",
       "    <tr>\n",
       "      <th>...</th>\n",
       "      <td>...</td>\n",
       "      <td>...</td>\n",
       "      <td>...</td>\n",
       "    </tr>\n",
       "    <tr>\n",
       "      <th>41152</th>\n",
       "      <td>0</td>\n",
       "      <td>1</td>\n",
       "      <td>0</td>\n",
       "    </tr>\n",
       "    <tr>\n",
       "      <th>41153</th>\n",
       "      <td>1</td>\n",
       "      <td>0</td>\n",
       "      <td>0</td>\n",
       "    </tr>\n",
       "    <tr>\n",
       "      <th>41154</th>\n",
       "      <td>0</td>\n",
       "      <td>0</td>\n",
       "      <td>1</td>\n",
       "    </tr>\n",
       "    <tr>\n",
       "      <th>41155</th>\n",
       "      <td>0</td>\n",
       "      <td>1</td>\n",
       "      <td>0</td>\n",
       "    </tr>\n",
       "    <tr>\n",
       "      <th>41156</th>\n",
       "      <td>1</td>\n",
       "      <td>0</td>\n",
       "      <td>0</td>\n",
       "    </tr>\n",
       "  </tbody>\n",
       "</table>\n",
       "<p>41106 rows × 3 columns</p>\n",
       "</div>"
      ],
      "text/plain": [
       "       -1   0   1\n",
       "1       0   0   1\n",
       "2       0   0   1\n",
       "3       0   0   1\n",
       "4       1   0   0\n",
       "5       0   0   1\n",
       "...    ..  ..  ..\n",
       "41152   0   1   0\n",
       "41153   1   0   0\n",
       "41154   0   0   1\n",
       "41155   0   1   0\n",
       "41156   1   0   0\n",
       "\n",
       "[41106 rows x 3 columns]"
      ]
     },
     "execution_count": 14,
     "metadata": {},
     "output_type": "execute_result"
    }
   ],
   "source": [
    "train_label"
   ]
  },
  {
   "cell_type": "markdown",
   "id": "strange-pension",
   "metadata": {
    "papermill": {
     "duration": 0.026316,
     "end_time": "2021-05-21T10:05:36.647895",
     "exception": false,
     "start_time": "2021-05-21T10:05:36.621579",
     "status": "completed"
    },
    "tags": []
   },
   "source": [
    "# 2.3 Lemmatization"
   ]
  },
  {
   "cell_type": "code",
   "execution_count": 15,
   "id": "mexican-jurisdiction",
   "metadata": {
    "execution": {
     "iopub.execute_input": "2021-05-21T10:05:36.707461Z",
     "iopub.status.busy": "2021-05-21T10:05:36.706725Z",
     "iopub.status.idle": "2021-05-21T10:05:36.715409Z",
     "shell.execute_reply": "2021-05-21T10:05:36.715937Z",
     "shell.execute_reply.started": "2021-05-21T09:09:39.653520Z"
    },
    "papermill": {
     "duration": 0.041032,
     "end_time": "2021-05-21T10:05:36.716145",
     "exception": false,
     "start_time": "2021-05-21T10:05:36.675113",
     "status": "completed"
    },
    "tags": []
   },
   "outputs": [],
   "source": [
    "lemmatizer = WordNetLemmatizer()\n",
    "\n",
    "# Function to convert nltk tag to wordnet tag\n",
    "def nltk_tag_to_wordnet_tag(nltk_tag):\n",
    "    if nltk_tag.startswith('J'):\n",
    "        return wordnet.ADJ\n",
    "    elif nltk_tag.startswith('V'):\n",
    "        return wordnet.VERB\n",
    "    elif nltk_tag.startswith('N'):\n",
    "        return wordnet.NOUN\n",
    "    elif nltk_tag.startswith('R'):\n",
    "        return wordnet.ADV\n",
    "    else:\n",
    "        return None\n",
    "\n",
    "# Function below is necessery to find lemma of each word\n",
    "def lemmatize_sentence(de_punct_sent):\n",
    "    # Tokenize the sentence and find the POS tag for each token\n",
    "    nltk_tagged = nltk.pos_tag(nltk.word_tokenize(de_punct_sent))\n",
    "    # Tuple of (token, wordnet_tag)\n",
    "    wordnet_tagged = map(lambda x: (x[0], nltk_tag_to_wordnet_tag(x[1])), nltk_tagged)\n",
    "    lemmatized_sentence = []\n",
    "    for word, tag in wordnet_tagged:\n",
    "        if tag is None:\n",
    "            # If there is no available tag, append the token as is\n",
    "            lemmatized_sentence.append(word)\n",
    "        else:\n",
    "            # else use the tag to lemmatize the token\n",
    "            lemmatized_sentence.append(lemmatizer.lemmatize(word, tag))\n",
    "    return \" \".join(lemmatized_sentence)"
   ]
  },
  {
   "cell_type": "code",
   "execution_count": 16,
   "id": "copyrighted-change",
   "metadata": {
    "execution": {
     "iopub.execute_input": "2021-05-21T10:05:36.773686Z",
     "iopub.status.busy": "2021-05-21T10:05:36.772897Z",
     "iopub.status.idle": "2021-05-21T10:06:55.109053Z",
     "shell.execute_reply": "2021-05-21T10:06:55.108312Z",
     "shell.execute_reply.started": "2021-05-21T09:09:52.062944Z"
    },
    "papermill": {
     "duration": 78.366438,
     "end_time": "2021-05-21T10:06:55.109201",
     "exception": false,
     "start_time": "2021-05-21T10:05:36.742763",
     "status": "completed"
    },
    "tags": []
   },
   "outputs": [],
   "source": [
    "# Lemmatization of train and test data\n",
    "train_lem = [lemmatize_sentence(i) for i in train_data]\n",
    "test_lem = [lemmatize_sentence(i) for i in test_data]"
   ]
  },
  {
   "cell_type": "markdown",
   "id": "stuffed-membership",
   "metadata": {
    "papermill": {
     "duration": 0.026531,
     "end_time": "2021-05-21T10:06:55.162473",
     "exception": false,
     "start_time": "2021-05-21T10:06:55.135942",
     "status": "completed"
    },
    "tags": []
   },
   "source": [
    "# 2.4 Tokenization"
   ]
  },
  {
   "cell_type": "code",
   "execution_count": 17,
   "id": "pleased-inflation",
   "metadata": {
    "execution": {
     "iopub.execute_input": "2021-05-21T10:06:55.250160Z",
     "iopub.status.busy": "2021-05-21T10:06:55.229438Z",
     "iopub.status.idle": "2021-05-21T10:06:57.079540Z",
     "shell.execute_reply": "2021-05-21T10:06:57.080084Z",
     "shell.execute_reply.started": "2021-05-21T09:11:14.584089Z"
    },
    "papermill": {
     "duration": 1.891253,
     "end_time": "2021-05-21T10:06:57.080267",
     "exception": false,
     "start_time": "2021-05-21T10:06:55.189014",
     "status": "completed"
    },
    "tags": []
   },
   "outputs": [
    {
     "name": "stdout",
     "output_type": "stream",
     "text": [
      "Found 31903 unique tokens.\n"
     ]
    }
   ],
   "source": [
    "samples_1 = train_lem\n",
    "samples_2 = test_lem\n",
    "\n",
    "tokenizer = Tokenizer(num_words=25000) # 25 000 most frequently used words\n",
    "tokenizer.fit_on_texts(samples_1) # Creat an index of all words from training data\n",
    "\n",
    "# Convert strings to integer index lists\n",
    "\n",
    "# After that, we pass the ready-made (from the line above) indexes for all words from train\n",
    "train_data = tokenizer.texts_to_sequences(samples_1)\n",
    "\n",
    "# And for test. So, we should get the same word indexes in the two texts\n",
    "test_data = tokenizer.texts_to_sequences(samples_2)\n",
    "\n",
    "word_index = tokenizer.word_index # Find out the calculated index of words\n",
    "print('Found %s unique tokens.' % len(word_index))"
   ]
  },
  {
   "cell_type": "code",
   "execution_count": 18,
   "id": "rapid-subsection",
   "metadata": {
    "execution": {
     "iopub.execute_input": "2021-05-21T10:06:57.138470Z",
     "iopub.status.busy": "2021-05-21T10:06:57.137752Z",
     "iopub.status.idle": "2021-05-21T10:06:57.140915Z",
     "shell.execute_reply": "2021-05-21T10:06:57.140265Z",
     "shell.execute_reply.started": "2021-05-21T09:11:21.622914Z"
    },
    "papermill": {
     "duration": 0.034013,
     "end_time": "2021-05-21T10:06:57.141070",
     "exception": false,
     "start_time": "2021-05-21T10:06:57.107057",
     "status": "completed"
    },
    "tags": []
   },
   "outputs": [],
   "source": [
    "### The preprocessing stage is done. Now we have the training, test data and their respective labels:\n",
    "    \n",
    "# -train_data\n",
    "# -test_data\n",
    "\n",
    "# -train_label\n",
    "# -test_label"
   ]
  },
  {
   "cell_type": "code",
   "execution_count": 19,
   "id": "sticky-tobago",
   "metadata": {
    "execution": {
     "iopub.execute_input": "2021-05-21T10:06:57.237297Z",
     "iopub.status.busy": "2021-05-21T10:06:57.203826Z",
     "iopub.status.idle": "2021-05-21T10:06:57.967637Z",
     "shell.execute_reply": "2021-05-21T10:06:57.968168Z",
     "shell.execute_reply.started": "2021-05-21T09:11:36.250107Z"
    },
    "papermill": {
     "duration": 0.79976,
     "end_time": "2021-05-21T10:06:57.968364",
     "exception": false,
     "start_time": "2021-05-21T10:06:57.168604",
     "status": "completed"
    },
    "tags": []
   },
   "outputs": [
    {
     "data": {
      "image/png": "[encoded data removed]",
      "text/plain": [
       "<Figure size 432x288 with 1 Axes>"
      ]
     },
     "metadata": {
      "needs_background": "light"
     },
     "output_type": "display_data"
    }
   ],
   "source": [
    "# Now we want to find out what is the maximum number of words in a sentence. \n",
    "# After that, we will fill in the sentences with the missing number of words.\n",
    "\n",
    "lens =  [len(s) for s in train_data]\n",
    "\n",
    "plt.title('The maximum number of words in a sentence', fontdict={'fontname': 'Comic Sans MS', 'fontsize': 17})\n",
    "plt.xlabel('The max number of words in a sentence', fontdict={'fontname': 'Comic Sans MS', 'fontsize': 15})\n",
    "plt.ylabel('The number of sentences', fontdict={'fontname': 'Comic Sans MS', 'fontsize': 15})\n",
    "plt.hist(lens,bins=200)\n",
    "plt.show()"
   ]
  },
  {
   "cell_type": "code",
   "execution_count": 20,
   "id": "efficient-martin",
   "metadata": {
    "execution": {
     "iopub.execute_input": "2021-05-21T10:06:58.028305Z",
     "iopub.status.busy": "2021-05-21T10:06:58.027354Z",
     "iopub.status.idle": "2021-05-21T10:06:58.441850Z",
     "shell.execute_reply": "2021-05-21T10:06:58.442342Z",
     "shell.execute_reply.started": "2021-05-21T09:11:48.395173Z"
    },
    "papermill": {
     "duration": 0.446028,
     "end_time": "2021-05-21T10:06:58.442553",
     "exception": false,
     "start_time": "2021-05-21T10:06:57.996525",
     "status": "completed"
    },
    "tags": []
   },
   "outputs": [],
   "source": [
    "maxlen = 40 # maximal length of sentences\n",
    "\n",
    "# Convert lists of integers to a two-dimensional tensor \n",
    "# with integers and with a shape (samples, max. length)\n",
    "\n",
    "train_data = preprocessing.sequence.pad_sequences(train_data, maxlen=maxlen, padding='post', truncating='post') \n",
    "test_data = preprocessing.sequence.pad_sequences(test_data, maxlen=maxlen, padding='post', truncating='post')\n"
   ]
  },
  {
   "cell_type": "code",
   "execution_count": 21,
   "id": "verified-printing",
   "metadata": {
    "execution": {
     "iopub.execute_input": "2021-05-21T10:06:58.502386Z",
     "iopub.status.busy": "2021-05-21T10:06:58.501398Z",
     "iopub.status.idle": "2021-05-21T10:06:58.506908Z",
     "shell.execute_reply": "2021-05-21T10:06:58.506371Z",
     "shell.execute_reply.started": "2021-05-21T09:12:46.335341Z"
    },
    "papermill": {
     "duration": 0.036358,
     "end_time": "2021-05-21T10:06:58.507055",
     "exception": false,
     "start_time": "2021-05-21T10:06:58.470697",
     "status": "completed"
    },
    "tags": []
   },
   "outputs": [],
   "source": [
    "# Define some parameters for the model\n",
    "embedding_dim = 32 # Dimension of the dense embedding.\n",
    "\n",
    "vocab_inp_size = len(word_index) + 1 # Size of the vocabulary\n",
    "\n",
    "hidden_size = 256"
   ]
  },
  {
   "cell_type": "markdown",
   "id": "engaging-houston",
   "metadata": {
    "papermill": {
     "duration": 0.027625,
     "end_time": "2021-05-21T10:06:58.562691",
     "exception": false,
     "start_time": "2021-05-21T10:06:58.535066",
     "status": "completed"
    },
    "tags": []
   },
   "source": [
    "# 3 Building Classification Model"
   ]
  },
  {
   "cell_type": "code",
   "execution_count": 22,
   "id": "cross-university",
   "metadata": {
    "execution": {
     "iopub.execute_input": "2021-05-21T10:06:58.627595Z",
     "iopub.status.busy": "2021-05-21T10:06:58.626869Z",
     "iopub.status.idle": "2021-05-21T10:19:16.170134Z",
     "shell.execute_reply": "2021-05-21T10:19:16.171188Z",
     "shell.execute_reply.started": "2021-05-21T09:15:19.948658Z"
    },
    "papermill": {
     "duration": 737.576281,
     "end_time": "2021-05-21T10:19:16.171590",
     "exception": false,
     "start_time": "2021-05-21T10:06:58.595309",
     "status": "completed"
    },
    "tags": []
   },
   "outputs": [
    {
     "name": "stdout",
     "output_type": "stream",
     "text": [
      "Model: \"sequential\"\n",
      "_________________________________________________________________\n",
      "Layer (type)                 Output Shape              Param #   \n",
      "=================================================================\n",
      "embedding (Embedding)        (None, 40, 32)            1020928   \n",
      "_________________________________________________________________\n",
      "lstm (LSTM)                  (None, 40, 256)           295936    \n",
      "_________________________________________________________________\n",
      "flatten (Flatten)            (None, 10240)             0         \n",
      "_________________________________________________________________\n",
      "dense (Dense)                (None, 3)                 30723     \n",
      "=================================================================\n",
      "Total params: 1,347,587\n",
      "Trainable params: 1,347,587\n",
      "Non-trainable params: 0\n",
      "_________________________________________________________________\n",
      "Epoch 1/10\n",
      "257/257 [==============================] - 78s 290ms/step - loss: 0.5680 - categorical_accuracy: 0.5087 - val_loss: 0.4315 - val_categorical_accuracy: 0.6700\n",
      "Epoch 2/10\n",
      "257/257 [==============================] - 73s 285ms/step - loss: 0.3565 - categorical_accuracy: 0.7709 - val_loss: 0.3207 - val_categorical_accuracy: 0.8010\n",
      "Epoch 3/10\n",
      "257/257 [==============================] - 73s 284ms/step - loss: 0.2839 - categorical_accuracy: 0.8281 - val_loss: 0.2911 - val_categorical_accuracy: 0.8267\n",
      "Epoch 4/10\n",
      "257/257 [==============================] - 73s 284ms/step - loss: 0.2478 - categorical_accuracy: 0.8567 - val_loss: 0.2800 - val_categorical_accuracy: 0.8313\n",
      "Epoch 5/10\n",
      "257/257 [==============================] - 73s 282ms/step - loss: 0.2227 - categorical_accuracy: 0.8743 - val_loss: 0.2761 - val_categorical_accuracy: 0.8410\n",
      "Epoch 6/10\n",
      "257/257 [==============================] - 73s 285ms/step - loss: 0.2061 - categorical_accuracy: 0.8831 - val_loss: 0.2803 - val_categorical_accuracy: 0.8404\n",
      "Epoch 7/10\n",
      "257/257 [==============================] - 73s 284ms/step - loss: 0.1936 - categorical_accuracy: 0.8927 - val_loss: 0.2764 - val_categorical_accuracy: 0.8440\n",
      "Epoch 8/10\n",
      "257/257 [==============================] - 75s 291ms/step - loss: 0.1814 - categorical_accuracy: 0.8991 - val_loss: 0.2760 - val_categorical_accuracy: 0.8370\n",
      "Epoch 9/10\n",
      "257/257 [==============================] - 73s 285ms/step - loss: 0.1714 - categorical_accuracy: 0.9056 - val_loss: 0.2927 - val_categorical_accuracy: 0.8363\n",
      "Epoch 10/10\n",
      "257/257 [==============================] - 73s 285ms/step - loss: 0.1644 - categorical_accuracy: 0.9097 - val_loss: 0.2864 - val_categorical_accuracy: 0.8402\n"
     ]
    }
   ],
   "source": [
    "model = Sequential() \n",
    "\n",
    "# The Embedding layer is necessery in order to convert words (in out case from integers) to vectors\n",
    "model.add(Embedding(input_dim = vocab_inp_size, output_dim = embedding_dim, input_length = maxlen))\n",
    "\n",
    "# Apply Dropout to use recurrent decimation to combat overfitting \n",
    "model.add(LSTM(hidden_size, return_sequences=True, dropout=0.4, recurrent_dropout=0.4)) \n",
    "\n",
    "# Use Flatten() or GlobalMaxPooling1D() to convert 3D output to 2D.\n",
    "# It allows you to add one or more Dense layers to your model \n",
    "model.add(Flatten()) # or model.add(GlobalMaxPooling1D())\n",
    "\n",
    "#model.add(Dense(64, activation='relu'))#as experiment we tried to add one additional layer,but it is not give as higher accuracy\n",
    "#model.add(Dropout(0.4))\n",
    "\n",
    "model.add(Dense(3, activation='softmax'))#activation function for classification\n",
    "\n",
    "model.summary()\n",
    "\n",
    "model.compile(optimizer='rmsprop', loss='binary_crossentropy', metrics=['categorical_accuracy']) \n",
    "\n",
    "history = model.fit(train_data, train_label, epochs=10, batch_size=128, validation_split=0.2)\n"
   ]
  },
  {
   "cell_type": "markdown",
   "id": "illegal-familiar",
   "metadata": {
    "papermill": {
     "duration": 0.825462,
     "end_time": "2021-05-21T10:19:17.826438",
     "exception": false,
     "start_time": "2021-05-21T10:19:17.000976",
     "status": "completed"
    },
    "tags": []
   },
   "source": [
    "# 3.1 Visualization of model training"
   ]
  },
  {
   "cell_type": "code",
   "execution_count": 23,
   "id": "sufficient-society",
   "metadata": {
    "execution": {
     "iopub.execute_input": "2021-05-21T10:19:19.551493Z",
     "iopub.status.busy": "2021-05-21T10:19:19.550564Z",
     "iopub.status.idle": "2021-05-21T10:19:19.865250Z",
     "shell.execute_reply": "2021-05-21T10:19:19.865800Z",
     "shell.execute_reply.started": "2021-05-21T09:27:01.061580Z"
    },
    "papermill": {
     "duration": 1.239543,
     "end_time": "2021-05-21T10:19:19.865976",
     "exception": false,
     "start_time": "2021-05-21T10:19:18.626433",
     "status": "completed"
    },
    "tags": []
   },
   "outputs": [
    {
     "data": {
      "image/png": "[encoded data removed]",
      "text/plain": [
       "<Figure size 432x288 with 1 Axes>"
      ]
     },
     "metadata": {
      "needs_background": "light"
     },
     "output_type": "display_data"
    },
    {
     "data": {
      "image/png": "[encoded data removed]",
      "text/plain": [
       "<Figure size 432x288 with 1 Axes>"
      ]
     },
     "metadata": {
      "needs_background": "light"
     },
     "output_type": "display_data"
    }
   ],
   "source": [
    "acc = history.history['categorical_accuracy']\n",
    "val_acc = history.history['val_categorical_accuracy'] \n",
    "loss = history.history['loss'] \n",
    "val_loss = history.history['val_loss']\n",
    "\n",
    "epochs = range(1, len(acc) + 1)\n",
    "\n",
    "plt.plot(epochs, acc, 'r', label='Training acc')\n",
    "plt.plot(epochs, val_acc, 'b', label='Validation acc') \n",
    "plt.title('Training and validation accuracy') \n",
    "plt.legend()\n",
    "\n",
    "plt.figure()\n",
    "\n",
    "plt.plot(epochs, loss, 'r', label='Training loss')\n",
    "plt.plot(epochs, val_loss, 'b', label='Validation loss') \n",
    "plt.title('Training and validation loss')\n",
    "plt.legend()\n",
    "\n",
    "plt.show()"
   ]
  },
  {
   "cell_type": "markdown",
   "id": "healthy-boundary",
   "metadata": {
    "papermill": {
     "duration": 0.820789,
     "end_time": "2021-05-21T10:19:21.491742",
     "exception": false,
     "start_time": "2021-05-21T10:19:20.670953",
     "status": "completed"
    },
    "tags": []
   },
   "source": [
    "# 4 Model Evaluation"
   ]
  },
  {
   "cell_type": "code",
   "execution_count": 24,
   "id": "filled-scotland",
   "metadata": {
    "execution": {
     "iopub.execute_input": "2021-05-21T10:19:23.102084Z",
     "iopub.status.busy": "2021-05-21T10:19:23.101078Z",
     "iopub.status.idle": "2021-05-21T10:19:26.836582Z",
     "shell.execute_reply": "2021-05-21T10:19:26.835800Z",
     "shell.execute_reply.started": "2021-05-21T09:27:31.602407Z"
    },
    "papermill": {
     "duration": 4.539972,
     "end_time": "2021-05-21T10:19:26.836748",
     "exception": false,
     "start_time": "2021-05-21T10:19:22.296776",
     "status": "completed"
    },
    "tags": []
   },
   "outputs": [
    {
     "name": "stdout",
     "output_type": "stream",
     "text": [
      "119/119 [==============================] - 4s 31ms/step - loss: 0.3053 - categorical_accuracy: 0.8261\n"
     ]
    },
    {
     "data": {
      "text/plain": [
       "[0.30531203746795654, 0.8260869383811951]"
      ]
     },
     "execution_count": 24,
     "metadata": {},
     "output_type": "execute_result"
    }
   ],
   "source": [
    "model.evaluate(test_data,test_label)"
   ]
  }
 ],
 "metadata": {
  "kernelspec": {
   "display_name": "Python 3",
   "language": "python",
   "name": "python3"
  },
  "language_info": {
   "codemirror_mode": {
    "name": "ipython",
    "version": 3
   },
   "file_extension": ".py",
   "mimetype": "text/x-python",
   "name": "python",
   "nbconvert_exporter": "python",
   "pygments_lexer": "ipython3",
   "version": "3.7.9"
  },
  "papermill": {
   "default_parameters": {},
   "duration": 867.089614,
   "end_time": "2021-05-21T10:19:29.281554",
   "environment_variables": {},
   "exception": null,
   "input_path": "__notebook__.ipynb",
   "output_path": "__notebook__.ipynb",
   "parameters": {},
   "start_time": "2021-05-21T10:05:02.191940",
   "version": "2.3.2"
  }
 },
 "nbformat": 4,
 "nbformat_minor": 5
}
